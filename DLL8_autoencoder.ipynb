{
  "nbformat": 4,
  "nbformat_minor": 0,
  "metadata": {
    "colab": {
      "provenance": []
    },
    "kernelspec": {
      "name": "python3",
      "display_name": "Python 3"
    },
    "language_info": {
      "name": "python"
    }
  },
  "cells": [
    {
      "cell_type": "markdown",
      "source": [
        "Develop an autoencoder to encode and decode the image. Analyze the results.\n",
        "* a) Develop AE for MNIST dataset\n",
        "* b) Use output of AE as input to CNN\n"
      ],
      "metadata": {
        "id": "4Z-YzJeBatUz"
      }
    },
    {
      "cell_type": "code",
      "metadata": {
        "id": "SOf_4-RYXRCV"
      },
      "source": [
        "from keras.datasets import mnist\n",
        "from keras.layers import Input, Dense\n",
        "from keras.models import Model\n",
        "import numpy as np\n",
        "import pandas as pd\n",
        "import matplotlib.pyplot as plt\n",
        "\n",
        "%matplotlib inline"
      ],
      "execution_count": null,
      "outputs": []
    },
    {
      "cell_type": "code",
      "metadata": {
        "colab": {
          "base_uri": "https://localhost:8080/"
        },
        "id": "xPHZIyBVee35",
        "outputId": "b90248b1-db60-4882-d05e-c342373cba00"
      },
      "source": [
        "(X_train, _), (X_test, _) = mnist.load_data()\n"
      ],
      "execution_count": null,
      "outputs": [
        {
          "output_type": "stream",
          "name": "stdout",
          "text": [
            "Downloading data from https://storage.googleapis.com/tensorflow/tf-keras-datasets/mnist.npz\n",
            "11490434/11490434 [==============================] - 0s 0us/step\n"
          ]
        }
      ]
    },
    {
      "cell_type": "code",
      "metadata": {
        "id": "51tWf7sRejcC"
      },
      "source": [
        "X_train = X_train.astype('float32')/255\n",
        "X_test = X_test.astype('float32')/255"
      ],
      "execution_count": null,
      "outputs": []
    },
    {
      "cell_type": "code",
      "metadata": {
        "id": "qHljtMmCjIcE",
        "outputId": "48870691-6b81-4552-8587-211c70a40f7c",
        "colab": {
          "base_uri": "https://localhost:8080/"
        }
      },
      "source": [
        "X_train.shape"
      ],
      "execution_count": null,
      "outputs": [
        {
          "output_type": "execute_result",
          "data": {
            "text/plain": [
              "(60000, 28, 28)"
            ]
          },
          "metadata": {},
          "execution_count": 4
        }
      ]
    },
    {
      "cell_type": "code",
      "metadata": {
        "colab": {
          "base_uri": "https://localhost:8080/"
        },
        "id": "xKvbWk_diVNf",
        "outputId": "0c71982a-6060-48df-c187-7cc8d098ef6b"
      },
      "source": [
        "X_train.shape[1:]"
      ],
      "execution_count": null,
      "outputs": [
        {
          "output_type": "execute_result",
          "data": {
            "text/plain": [
              "(28, 28)"
            ]
          },
          "metadata": {},
          "execution_count": 5
        }
      ]
    },
    {
      "cell_type": "code",
      "metadata": {
        "id": "GDhbowF6eloh"
      },
      "source": [
        "#data should always be of the format “(Number of data points, data point dimension)”. In this case, the training data will be of format 60,000×784.\n",
        "X_train = X_train.reshape(len(X_train), np.prod(X_train.shape[1:]))\n",
        "X_test = X_test.reshape(len(X_test), np.prod(X_test.shape[1:]))"
      ],
      "execution_count": null,
      "outputs": []
    },
    {
      "cell_type": "code",
      "metadata": {
        "colab": {
          "base_uri": "https://localhost:8080/"
        },
        "id": "tGOt7B4Qen3N",
        "outputId": "cf927461-d214-4afd-f4bd-31004de59531"
      },
      "source": [
        "print(X_train.shape)\n",
        "print(X_test.shape)"
      ],
      "execution_count": null,
      "outputs": [
        {
          "output_type": "stream",
          "name": "stdout",
          "text": [
            "(60000, 784)\n",
            "(10000, 784)\n"
          ]
        }
      ]
    },
    {
      "cell_type": "code",
      "metadata": {
        "id": "1xnwz2U_eqQa"
      },
      "source": [
        "input_img= Input(shape=(784,))"
      ],
      "execution_count": null,
      "outputs": []
    },
    {
      "cell_type": "code",
      "metadata": {
        "id": "yHZmaVL9eqaD"
      },
      "source": [
        "encoded = Dense(units=32, activation='relu')(input_img)"
      ],
      "execution_count": null,
      "outputs": []
    },
    {
      "cell_type": "code",
      "metadata": {
        "id": "y7HPMdOBeqda"
      },
      "source": [
        "decoded = Dense(units=784, activation='sigmoid')(encoded)"
      ],
      "execution_count": null,
      "outputs": []
    },
    {
      "cell_type": "code",
      "metadata": {
        "id": "-2JKE6XVeqhw"
      },
      "source": [
        "autoencoder=Model(input_img, decoded)"
      ],
      "execution_count": null,
      "outputs": []
    },
    {
      "cell_type": "code",
      "metadata": {
        "colab": {
          "base_uri": "https://localhost:8080/"
        },
        "id": "6eJ7Tdr2fDak",
        "outputId": "b74195a0-ff6d-4091-f93d-a37cd01964db"
      },
      "source": [
        "autoencoder.summary()"
      ],
      "execution_count": null,
      "outputs": [
        {
          "output_type": "stream",
          "name": "stdout",
          "text": [
            "Model: \"model\"\n",
            "_________________________________________________________________\n",
            " Layer (type)                Output Shape              Param #   \n",
            "=================================================================\n",
            " input_1 (InputLayer)        [(None, 784)]             0         \n",
            "                                                                 \n",
            " dense (Dense)               (None, 32)                25120     \n",
            "                                                                 \n",
            " dense_1 (Dense)             (None, 784)               25872     \n",
            "                                                                 \n",
            "=================================================================\n",
            "Total params: 50,992\n",
            "Trainable params: 50,992\n",
            "Non-trainable params: 0\n",
            "_________________________________________________________________\n"
          ]
        }
      ]
    },
    {
      "cell_type": "code",
      "metadata": {
        "id": "SJOS1LIAfDeF"
      },
      "source": [
        "encoder = Model(input_img, encoded)"
      ],
      "execution_count": null,
      "outputs": []
    },
    {
      "cell_type": "code",
      "metadata": {
        "colab": {
          "base_uri": "https://localhost:8080/"
        },
        "id": "j9EUpLszfDhQ",
        "outputId": "2175bbfc-8580-4542-95dd-eddca87a69d3"
      },
      "source": [
        "encoder.summary()"
      ],
      "execution_count": null,
      "outputs": [
        {
          "output_type": "stream",
          "name": "stdout",
          "text": [
            "Model: \"model_1\"\n",
            "_________________________________________________________________\n",
            " Layer (type)                Output Shape              Param #   \n",
            "=================================================================\n",
            " input_1 (InputLayer)        [(None, 784)]             0         \n",
            "                                                                 \n",
            " dense (Dense)               (None, 32)                25120     \n",
            "                                                                 \n",
            "=================================================================\n",
            "Total params: 25,120\n",
            "Trainable params: 25,120\n",
            "Non-trainable params: 0\n",
            "_________________________________________________________________\n"
          ]
        }
      ]
    },
    {
      "cell_type": "code",
      "metadata": {
        "id": "PoiZY73VfDkG"
      },
      "source": [
        "autoencoder.compile(optimizer='adam', loss='binary_crossentropy', metrics=['accuracy'])"
      ],
      "execution_count": null,
      "outputs": []
    },
    {
      "cell_type": "code",
      "metadata": {
        "colab": {
          "base_uri": "https://localhost:8080/"
        },
        "id": "3iSwdiUCfDoH",
        "outputId": "533a3e2c-06dd-415c-e4db-9ffe1ec6eb2e"
      },
      "source": [
        "autoencoder.fit(X_train, X_train,\n",
        "                epochs=20,\n",
        "                batch_size=256,\n",
        "                shuffle=True,\n",
        "                validation_data=(X_test, X_test))"
      ],
      "execution_count": null,
      "outputs": [
        {
          "output_type": "stream",
          "name": "stdout",
          "text": [
            "Epoch 1/20\n",
            "235/235 [==============================] - 4s 15ms/step - loss: 0.2749 - accuracy: 0.0088 - val_loss: 0.1898 - val_accuracy: 0.0115\n",
            "Epoch 2/20\n",
            "235/235 [==============================] - 5s 20ms/step - loss: 0.1716 - accuracy: 0.0104 - val_loss: 0.1546 - val_accuracy: 0.0112\n",
            "Epoch 3/20\n",
            "235/235 [==============================] - 6s 26ms/step - loss: 0.1450 - accuracy: 0.0107 - val_loss: 0.1339 - val_accuracy: 0.0097\n",
            "Epoch 4/20\n",
            "235/235 [==============================] - 6s 26ms/step - loss: 0.1287 - accuracy: 0.0105 - val_loss: 0.1212 - val_accuracy: 0.0108\n",
            "Epoch 5/20\n",
            "235/235 [==============================] - 6s 27ms/step - loss: 0.1185 - accuracy: 0.0103 - val_loss: 0.1130 - val_accuracy: 0.0097\n",
            "Epoch 6/20\n",
            "235/235 [==============================] - 4s 16ms/step - loss: 0.1114 - accuracy: 0.0104 - val_loss: 0.1071 - val_accuracy: 0.0112\n",
            "Epoch 7/20\n",
            "235/235 [==============================] - 3s 13ms/step - loss: 0.1063 - accuracy: 0.0107 - val_loss: 0.1029 - val_accuracy: 0.0115\n",
            "Epoch 8/20\n",
            "235/235 [==============================] - 3s 14ms/step - loss: 0.1026 - accuracy: 0.0110 - val_loss: 0.0997 - val_accuracy: 0.0115\n",
            "Epoch 9/20\n",
            "235/235 [==============================] - 3s 14ms/step - loss: 0.0998 - accuracy: 0.0115 - val_loss: 0.0975 - val_accuracy: 0.0119\n",
            "Epoch 10/20\n",
            "235/235 [==============================] - 3s 14ms/step - loss: 0.0979 - accuracy: 0.0108 - val_loss: 0.0959 - val_accuracy: 0.0121\n",
            "Epoch 11/20\n",
            "235/235 [==============================] - 3s 13ms/step - loss: 0.0965 - accuracy: 0.0110 - val_loss: 0.0948 - val_accuracy: 0.0122\n",
            "Epoch 12/20\n",
            "235/235 [==============================] - 3s 13ms/step - loss: 0.0957 - accuracy: 0.0107 - val_loss: 0.0940 - val_accuracy: 0.0132\n",
            "Epoch 13/20\n",
            "235/235 [==============================] - 3s 14ms/step - loss: 0.0951 - accuracy: 0.0107 - val_loss: 0.0936 - val_accuracy: 0.0125\n",
            "Epoch 14/20\n",
            "235/235 [==============================] - 3s 12ms/step - loss: 0.0947 - accuracy: 0.0108 - val_loss: 0.0932 - val_accuracy: 0.0122\n",
            "Epoch 15/20\n",
            "235/235 [==============================] - 3s 12ms/step - loss: 0.0944 - accuracy: 0.0107 - val_loss: 0.0930 - val_accuracy: 0.0125\n",
            "Epoch 16/20\n",
            "235/235 [==============================] - 3s 13ms/step - loss: 0.0941 - accuracy: 0.0104 - val_loss: 0.0927 - val_accuracy: 0.0114\n",
            "Epoch 17/20\n",
            "235/235 [==============================] - 4s 16ms/step - loss: 0.0940 - accuracy: 0.0108 - val_loss: 0.0926 - val_accuracy: 0.0114\n",
            "Epoch 18/20\n",
            "235/235 [==============================] - 4s 16ms/step - loss: 0.0938 - accuracy: 0.0102 - val_loss: 0.0925 - val_accuracy: 0.0126\n",
            "Epoch 19/20\n",
            "235/235 [==============================] - 3s 12ms/step - loss: 0.0937 - accuracy: 0.0109 - val_loss: 0.0923 - val_accuracy: 0.0118\n",
            "Epoch 20/20\n",
            "235/235 [==============================] - 3s 13ms/step - loss: 0.0936 - accuracy: 0.0106 - val_loss: 0.0922 - val_accuracy: 0.0120\n"
          ]
        },
        {
          "output_type": "execute_result",
          "data": {
            "text/plain": [
              "<keras.callbacks.History at 0x7faf45b261d0>"
            ]
          },
          "metadata": {},
          "execution_count": 16
        }
      ]
    },
    {
      "cell_type": "code",
      "metadata": {
        "id": "bRCCX_zffOoq",
        "colab": {
          "base_uri": "https://localhost:8080/"
        },
        "outputId": "8b49efb8-b7e4-45c9-dd62-3cb1f076b497"
      },
      "source": [
        "encoded_imgs = encoder.predict(X_test)\n"
      ],
      "execution_count": null,
      "outputs": [
        {
          "output_type": "stream",
          "name": "stdout",
          "text": [
            "313/313 [==============================] - 0s 1ms/step\n"
          ]
        }
      ]
    },
    {
      "cell_type": "code",
      "metadata": {
        "colab": {
          "base_uri": "https://localhost:8080/",
          "height": 282
        },
        "id": "Uqe9PyeqhC_r",
        "outputId": "6a0f2d01-e50a-4918-9c1b-12df14c6cdab"
      },
      "source": [
        "plt.imshow(X_test[0].reshape(28,28))"
      ],
      "execution_count": null,
      "outputs": [
        {
          "output_type": "execute_result",
          "data": {
            "text/plain": [
              "<matplotlib.image.AxesImage at 0x7faf442b6510>"
            ]
          },
          "metadata": {},
          "execution_count": 18
        },
        {
          "output_type": "display_data",
          "data": {
            "text/plain": [
              "<Figure size 432x288 with 1 Axes>"
            ],
            "image/png": "[encoded data removed]"
          },
          "metadata": {
            "needs_background": "light"
          }
        }
      ]
    },
    {
      "cell_type": "code",
      "metadata": {
        "colab": {
          "base_uri": "https://localhost:8080/",
          "height": 282
        },
        "id": "QJVGsutHga7y",
        "outputId": "0c2dca64-7c9f-44a0-935a-aab940cb5c1a"
      },
      "source": [
        "plt.imshow(encoded_imgs[0].reshape(8,4))"
      ],
      "execution_count": null,
      "outputs": [
        {
          "output_type": "execute_result",
          "data": {
            "text/plain": [
              "<matplotlib.image.AxesImage at 0x7faf4553db90>"
            ]
          },
          "metadata": {},
          "execution_count": 19
        },
        {
          "output_type": "display_data",
          "data": {
            "text/plain": [
              "<Figure size 432x288 with 1 Axes>"
            ],
            "image/png": "[encoded data removed]"
          },
          "metadata": {
            "needs_background": "light"
          }
        }
      ]
    },
    {
      "cell_type": "code",
      "metadata": {
        "id": "DLLWK1nLfRaz",
        "colab": {
          "base_uri": "https://localhost:8080/"
        },
        "outputId": "b4da9700-0319-47ae-e255-691f347eb38f"
      },
      "source": [
        "predicted = autoencoder.predict(X_test)"
      ],
      "execution_count": null,
      "outputs": [
        {
          "output_type": "stream",
          "name": "stdout",
          "text": [
            "313/313 [==============================] - 1s 1ms/step\n"
          ]
        }
      ]
    },
    {
      "cell_type": "code",
      "metadata": {
        "colab": {
          "base_uri": "https://localhost:8080/",
          "height": 282
        },
        "id": "KsVRMx3Ag6aa",
        "outputId": "f138eefd-2459-498c-a3e9-55641dad6873"
      },
      "source": [
        "plt.imshow(predicted[0].reshape(28,28))"
      ],
      "execution_count": null,
      "outputs": [
        {
          "output_type": "execute_result",
          "data": {
            "text/plain": [
              "<matplotlib.image.AxesImage at 0x7faf454e0650>"
            ]
          },
          "metadata": {},
          "execution_count": 21
        },
        {
          "output_type": "display_data",
          "data": {
            "text/plain": [
              "<Figure size 432x288 with 1 Axes>"
            ],
            "image/png": "[encoded data removed]"
          },
          "metadata": {
            "needs_background": "light"
          }
        }
      ]
    },
    {
      "cell_type": "code",
      "metadata": {
        "colab": {
          "base_uri": "https://localhost:8080/",
          "height": 252
        },
        "id": "sbtsXlXQfTGo",
        "outputId": "a77cd917-70f9-4f5d-f1d8-08e43b1a32a6"
      },
      "source": [
        "plt.figure(figsize=(40, 4))\n",
        "for i in range(10):\n",
        "    # display original\n",
        "    ax = plt.subplot(3, 20, i + 1)\n",
        "    plt.imshow(X_test[i].reshape(28, 28))\n",
        "    plt.gray()\n",
        "    ax.get_xaxis().set_visible(False)\n",
        "    ax.get_yaxis().set_visible(False)\n",
        "    \n",
        "    # display encoded image\n",
        "    ax = plt.subplot(3, 20, i + 1 + 20)\n",
        "    plt.imshow(encoded_imgs[i].reshape(8,4))\n",
        "    plt.gray()\n",
        "    ax.get_xaxis().set_visible(False)\n",
        "    ax.get_yaxis().set_visible(False)\n",
        "    # display reconstruction\n",
        "    ax = plt.subplot(3, 20, 2*20 +i+ 1)\n",
        "    plt.imshow(predicted[i].reshape(28, 28))\n",
        "    plt.gray()\n",
        "    ax.get_xaxis().set_visible(False)\n",
        "    ax.get_yaxis().set_visible(False)\n",
        "    \n",
        "    \n",
        "    \n",
        "plt.show()\n"
      ],
      "execution_count": null,
      "outputs": [
        {
          "output_type": "display_data",
          "data": {
            "text/plain": [
              "<Figure size 2880x288 with 30 Axes>"
            ],
            "image/png": "[encoded data removed]"
          },
          "metadata": {
            "needs_background": "light"
          }
        }
      ]
    }
  ]
}