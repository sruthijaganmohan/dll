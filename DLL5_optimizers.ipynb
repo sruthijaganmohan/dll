{
  "nbformat": 4,
  "nbformat_minor": 0,
  "metadata": {
    "colab": {
      "provenance": [],
      "collapsed_sections": [
        "Qkv3BCfZd3lY",
        "nEnQqmh5d6h1",
        "dseHit_OeCZF",
        "Q9OOGra_eG8M"
      ]
    },
    "kernelspec": {
      "name": "python3",
      "display_name": "Python 3"
    },
    "language_info": {
      "name": "python"
    }
  },
  "cells": [
    {
      "cell_type": "markdown",
      "source": [
        "Write a program to demonstrate the change in accuracy/loss/convergence time with change in optimizers like stochastic gradient descent, adam, adagrad, RMSprop and Nadam for any suitable application"
      ],
      "metadata": {
        "id": "MbcirT_kv99l"
      }
    },
    {
      "cell_type": "code",
      "execution_count": null,
      "metadata": {
        "id": "d_rOou5pcIMN"
      },
      "outputs": [],
      "source": [
        "import numpy as np\n",
        "import pandas as pd\n",
        "import matplotlib.pyplot as plt\n",
        "import seaborn as sns\n",
        "import tensorflow as tf\n",
        "from tensorflow import keras\n",
        "from tensorflow.keras import layers,models\n",
        "from sklearn.model_selection import train_test_split\n",
        "from sklearn.preprocessing import StandardScaler"
      ]
    },
    {
      "cell_type": "code",
      "source": [
        "from google.colab import files\n",
        "uploaded = files.upload()"
      ],
      "metadata": {
        "colab": {
          "base_uri": "https://localhost:8080/",
          "height": 74
        },
        "id": "knrvZDrLcirs",
        "outputId": "2a7a83ca-b305-4de4-da3a-1abca2e2a41f"
      },
      "execution_count": null,
      "outputs": [
        {
          "output_type": "display_data",
          "data": {
            "text/plain": [
              "<IPython.core.display.HTML object>"
            ],
            "text/html": [
              "\n",
              "     <input type=\"file\" id=\"files-93746bc0-e773-48e9-8cfe-1b66d9668c7c\" name=\"files[]\" multiple disabled\n",
              "        style=\"border:none\" />\n",
              "     <output id=\"result-93746bc0-e773-48e9-8cfe-1b66d9668c7c\">\n",
              "      Upload widget is only available when the cell has been executed in the\n",
              "      current browser session. Please rerun this cell to enable.\n",
              "      </output>\n",
              "      <script>// Copyright 2017 Google LLC\n",
              "//\n",
              "// Licensed under the Apache License, Version 2.0 (the \"License\");\n",
              "// you may not use this file except in compliance with the License.\n",
              "// You may obtain a copy of the License at\n",
              "//\n",
              "//      http://www.apache.org/licenses/LICENSE-2.0\n",
              "//\n",
              "// Unless required by applicable law or agreed to in writing, software\n",
              "// distributed under the License is distributed on an \"AS IS\" BASIS,\n",
              "// WITHOUT WARRANTIES OR CONDITIONS OF ANY KIND, either express or implied.\n",
              "// See the License for the specific language governing permissions and\n",
              "// limitations under the License.\n",
              "\n",
              "/**\n",
              " * @fileoverview Helpers for google.colab Python module.\n",
              " */\n",
              "(function(scope) {\n",
              "function span(text, styleAttributes = {}) {\n",
              "  const element = document.createElement('span');\n",
              "  element.textContent = text;\n",
              "  for (const key of Object.keys(styleAttributes)) {\n",
              "    element.style[key] = styleAttributes[key];\n",
              "  }\n",
              "  return element;\n",
              "}\n",
              "\n",
              "// Max number of bytes which will be uploaded at a time.\n",
              "const MAX_PAYLOAD_SIZE = 100 * 1024;\n",
              "\n",
              "function _uploadFiles(inputId, outputId) {\n",
              "  const steps = uploadFilesStep(inputId, outputId);\n",
              "  const outputElement = document.getElementById(outputId);\n",
              "  // Cache steps on the outputElement to make it available for the next call\n",
              "  // to uploadFilesContinue from Python.\n",
              "  outputElement.steps = steps;\n",
              "\n",
              "  return _uploadFilesContinue(outputId);\n",
              "}\n",
              "\n",
              "// This is roughly an async generator (not supported in the browser yet),\n",
              "// where there are multiple asynchronous steps and the Python side is going\n",
              "// to poll for completion of each step.\n",
              "// This uses a Promise to block the python side on completion of each step,\n",
              "// then passes the result of the previous step as the input to the next step.\n",
              "function _uploadFilesContinue(outputId) {\n",
              "  const outputElement = document.getElementById(outputId);\n",
              "  const steps = outputElement.steps;\n",
              "\n",
              "  const next = steps.next(outputElement.lastPromiseValue);\n",
              "  return Promise.resolve(next.value.promise).then((value) => {\n",
              "    // Cache the last promise value to make it available to the next\n",
              "    // step of the generator.\n",
              "    outputElement.lastPromiseValue = value;\n",
              "    return next.value.response;\n",
              "  });\n",
              "}\n",
              "\n",
              "/**\n",
              " * Generator function which is called between each async step of the upload\n",
              " * process.\n",
              " * @param {string} inputId Element ID of the input file picker element.\n",
              " * @param {string} outputId Element ID of the output display.\n",
              " * @return {!Iterable<!Object>} Iterable of next steps.\n",
              " */\n",
              "function* uploadFilesStep(inputId, outputId) {\n",
              "  const inputElement = document.getElementById(inputId);\n",
              "  inputElement.disabled = false;\n",
              "\n",
              "  const outputElement = document.getElementById(outputId);\n",
              "  outputElement.innerHTML = '';\n",
              "\n",
              "  const pickedPromise = new Promise((resolve) => {\n",
              "    inputElement.addEventListener('change', (e) => {\n",
              "      resolve(e.target.files);\n",
              "    });\n",
              "  });\n",
              "\n",
              "  const cancel = document.createElement('button');\n",
              "  inputElement.parentElement.appendChild(cancel);\n",
              "  cancel.textContent = 'Cancel upload';\n",
              "  const cancelPromise = new Promise((resolve) => {\n",
              "    cancel.onclick = () => {\n",
              "      resolve(null);\n",
              "    };\n",
              "  });\n",
              "\n",
              "  // Wait for the user to pick the files.\n",
              "  const files = yield {\n",
              "    promise: Promise.race([pickedPromise, cancelPromise]),\n",
              "    response: {\n",
              "      action: 'starting',\n",
              "    }\n",
              "  };\n",
              "\n",
              "  cancel.remove();\n",
              "\n",
              "  // Disable the input element since further picks are not allowed.\n",
              "  inputElement.disabled = true;\n",
              "\n",
              "  if (!files) {\n",
              "    return {\n",
              "      response: {\n",
              "        action: 'complete',\n",
              "      }\n",
              "    };\n",
              "  }\n",
              "\n",
              "  for (const file of files) {\n",
              "    const li = document.createElement('li');\n",
              "    li.append(span(file.name, {fontWeight: 'bold'}));\n",
              "    li.append(span(\n",
              "        `(${file.type || 'n/a'}) - ${file.size} bytes, ` +\n",
              "        `last modified: ${\n",
              "            file.lastModifiedDate ? file.lastModifiedDate.toLocaleDateString() :\n",
              "                                    'n/a'} - `));\n",
              "    const percent = span('0% done');\n",
              "    li.appendChild(percent);\n",
              "\n",
              "    outputElement.appendChild(li);\n",
              "\n",
              "    const fileDataPromise = new Promise((resolve) => {\n",
              "      const reader = new FileReader();\n",
              "      reader.onload = (e) => {\n",
              "        resolve(e.target.result);\n",
              "      };\n",
              "      reader.readAsArrayBuffer(file);\n",
              "    });\n",
              "    // Wait for the data to be ready.\n",
              "    let fileData = yield {\n",
              "      promise: fileDataPromise,\n",
              "      response: {\n",
              "        action: 'continue',\n",
              "      }\n",
              "    };\n",
              "\n",
              "    // Use a chunked sending to avoid message size limits. See b/62115660.\n",
              "    let position = 0;\n",
              "    do {\n",
              "      const length = Math.min(fileData.byteLength - position, MAX_PAYLOAD_SIZE);\n",
              "      const chunk = new Uint8Array(fileData, position, length);\n",
              "      position += length;\n",
              "\n",
              "      const base64 = btoa(String.fromCharCode.apply(null, chunk));\n",
              "      yield {\n",
              "        response: {\n",
              "          action: 'append',\n",
              "          file: file.name,\n",
              "          data: base64,\n",
              "        },\n",
              "      };\n",
              "\n",
              "      let percentDone = fileData.byteLength === 0 ?\n",
              "          100 :\n",
              "          Math.round((position / fileData.byteLength) * 100);\n",
              "      percent.textContent = `${percentDone}% done`;\n",
              "\n",
              "    } while (position < fileData.byteLength);\n",
              "  }\n",
              "\n",
              "  // All done.\n",
              "  yield {\n",
              "    response: {\n",
              "      action: 'complete',\n",
              "    }\n",
              "  };\n",
              "}\n",
              "\n",
              "scope.google = scope.google || {};\n",
              "scope.google.colab = scope.google.colab || {};\n",
              "scope.google.colab._files = {\n",
              "  _uploadFiles,\n",
              "  _uploadFilesContinue,\n",
              "};\n",
              "})(self);\n",
              "</script> "
            ]
          },
          "metadata": {}
        },
        {
          "output_type": "stream",
          "name": "stdout",
          "text": [
            "Saving diabetes1.csv to diabetes1.csv\n"
          ]
        }
      ]
    },
    {
      "cell_type": "code",
      "source": [
        "df = pd.read_csv('/content/diabetes1.csv')"
      ],
      "metadata": {
        "id": "Shm1n06Jck9S"
      },
      "execution_count": null,
      "outputs": []
    },
    {
      "cell_type": "code",
      "source": [
        "df.shape"
      ],
      "metadata": {
        "colab": {
          "base_uri": "https://localhost:8080/"
        },
        "id": "0rijcd1xcmpG",
        "outputId": "4d2f3828-2813-4bbd-b094-015cd0c2ce6f"
      },
      "execution_count": null,
      "outputs": [
        {
          "output_type": "execute_result",
          "data": {
            "text/plain": [
              "(768, 9)"
            ]
          },
          "metadata": {},
          "execution_count": 4
        }
      ]
    },
    {
      "cell_type": "code",
      "source": [
        "df.head()"
      ],
      "metadata": {
        "colab": {
          "base_uri": "https://localhost:8080/",
          "height": 206
        },
        "id": "nPY0bvpKcoK9",
        "outputId": "fb6da5c9-7ae6-4c42-d677-abd5553d5fc4"
      },
      "execution_count": null,
      "outputs": [
        {
          "output_type": "execute_result",
          "data": {
            "text/plain": [
              "   Pregnancies  Glucose  BloodPressure  SkinThickness  Insulin   BMI  \\\n",
              "0            6      148             72             35        0  33.6   \n",
              "1            1       85             66             29        0  26.6   \n",
              "2            8      183             64              0        0  23.3   \n",
              "3            1       89             66             23       94  28.1   \n",
              "4            0      137             40             35      168  43.1   \n",
              "\n",
              "   DiabetesPedigreeFunction  Age  Outcome  \n",
              "0                     0.627   50        1  \n",
              "1                     0.351   31        0  \n",
              "2                     0.672   32        1  \n",
              "3                     0.167   21        0  \n",
              "4                     2.288   33        1  "
            ],
            "text/html": [
              "\n",
              "  <div id=\"df-13d376b2-e7bf-4201-9072-0ca4eebb4a47\">\n",
              "    <div class=\"colab-df-container\">\n",
              "      <div>\n",
              "<style scoped>\n",
              "    .dataframe tbody tr th:only-of-type {\n",
              "        vertical-align: middle;\n",
              "    }\n",
              "\n",
              "    .dataframe tbody tr th {\n",
              "        vertical-align: top;\n",
              "    }\n",
              "\n",
              "    .dataframe thead th {\n",
              "        text-align: right;\n",
              "    }\n",
              "</style>\n",
              "<table border=\"1\" class=\"dataframe\">\n",
              "  <thead>\n",
              "    <tr style=\"text-align: right;\">\n",
              "      <th></th>\n",
              "      <th>Pregnancies</th>\n",
              "      <th>Glucose</th>\n",
              "      <th>BloodPressure</th>\n",
              "      <th>SkinThickness</th>\n",
              "      <th>Insulin</th>\n",
              "      <th>BMI</th>\n",
              "      <th>DiabetesPedigreeFunction</th>\n",
              "      <th>Age</th>\n",
              "      <th>Outcome</th>\n",
              "    </tr>\n",
              "  </thead>\n",
              "  <tbody>\n",
              "    <tr>\n",
              "      <th>0</th>\n",
              "      <td>6</td>\n",
              "      <td>148</td>\n",
              "      <td>72</td>\n",
              "      <td>35</td>\n",
              "      <td>0</td>\n",
              "      <td>33.6</td>\n",
              "      <td>0.627</td>\n",
              "      <td>50</td>\n",
              "      <td>1</td>\n",
              "    </tr>\n",
              "    <tr>\n",
              "      <th>1</th>\n",
              "      <td>1</td>\n",
              "      <td>85</td>\n",
              "      <td>66</td>\n",
              "      <td>29</td>\n",
              "      <td>0</td>\n",
              "      <td>26.6</td>\n",
              "      <td>0.351</td>\n",
              "      <td>31</td>\n",
              "      <td>0</td>\n",
              "    </tr>\n",
              "    <tr>\n",
              "      <th>2</th>\n",
              "      <td>8</td>\n",
              "      <td>183</td>\n",
              "      <td>64</td>\n",
              "      <td>0</td>\n",
              "      <td>0</td>\n",
              "      <td>23.3</td>\n",
              "      <td>0.672</td>\n",
              "      <td>32</td>\n",
              "      <td>1</td>\n",
              "    </tr>\n",
              "    <tr>\n",
              "      <th>3</th>\n",
              "      <td>1</td>\n",
              "      <td>89</td>\n",
              "      <td>66</td>\n",
              "      <td>23</td>\n",
              "      <td>94</td>\n",
              "      <td>28.1</td>\n",
              "      <td>0.167</td>\n",
              "      <td>21</td>\n",
              "      <td>0</td>\n",
              "    </tr>\n",
              "    <tr>\n",
              "      <th>4</th>\n",
              "      <td>0</td>\n",
              "      <td>137</td>\n",
              "      <td>40</td>\n",
              "      <td>35</td>\n",
              "      <td>168</td>\n",
              "      <td>43.1</td>\n",
              "      <td>2.288</td>\n",
              "      <td>33</td>\n",
              "      <td>1</td>\n",
              "    </tr>\n",
              "  </tbody>\n",
              "</table>\n",
              "</div>\n",
              "      <button class=\"colab-df-convert\" onclick=\"convertToInteractive('df-13d376b2-e7bf-4201-9072-0ca4eebb4a47')\"\n",
              "              title=\"Convert this dataframe to an interactive table.\"\n",
              "              style=\"display:none;\">\n",
              "        \n",
              "  <svg xmlns=\"http://www.w3.org/2000/svg\" height=\"24px\"viewBox=\"0 0 24 24\"\n",
              "       width=\"24px\">\n",
              "    <path d=\"M0 0h24v24H0V0z\" fill=\"none\"/>\n",
              "    <path d=\"M18.56 5.44l.94 2.06.94-2.06 2.06-.94-2.06-.94-.94-2.06-.94 2.06-2.06.94zm-11 1L8.5 8.5l.94-2.06 2.06-.94-2.06-.94L8.5 2.5l-.94 2.06-2.06.94zm10 10l.94 2.06.94-2.06 2.06-.94-2.06-.94-.94-2.06-.94 2.06-2.06.94z\"/><path d=\"M17.41 7.96l-1.37-1.37c-.4-.4-.92-.59-1.43-.59-.52 0-1.04.2-1.43.59L10.3 9.45l-7.72 7.72c-.78.78-.78 2.05 0 2.83L4 21.41c.39.39.9.59 1.41.59.51 0 1.02-.2 1.41-.59l7.78-7.78 2.81-2.81c.8-.78.8-2.07 0-2.86zM5.41 20L4 18.59l7.72-7.72 1.47 1.35L5.41 20z\"/>\n",
              "  </svg>\n",
              "      </button>\n",
              "      \n",
              "  <style>\n",
              "    .colab-df-container {\n",
              "      display:flex;\n",
              "      flex-wrap:wrap;\n",
              "      gap: 12px;\n",
              "    }\n",
              "\n",
              "    .colab-df-convert {\n",
              "      background-color: #E8F0FE;\n",
              "      border: none;\n",
              "      border-radius: 50%;\n",
              "      cursor: pointer;\n",
              "      display: none;\n",
              "      fill: #1967D2;\n",
              "      height: 32px;\n",
              "      padding: 0 0 0 0;\n",
              "      width: 32px;\n",
              "    }\n",
              "\n",
              "    .colab-df-convert:hover {\n",
              "      background-color: #E2EBFA;\n",
              "      box-shadow: 0px 1px 2px rgba(60, 64, 67, 0.3), 0px 1px 3px 1px rgba(60, 64, 67, 0.15);\n",
              "      fill: #174EA6;\n",
              "    }\n",
              "\n",
              "    [theme=dark] .colab-df-convert {\n",
              "      background-color: #3B4455;\n",
              "      fill: #D2E3FC;\n",
              "    }\n",
              "\n",
              "    [theme=dark] .colab-df-convert:hover {\n",
              "      background-color: #434B5C;\n",
              "      box-shadow: 0px 1px 3px 1px rgba(0, 0, 0, 0.15);\n",
              "      filter: drop-shadow(0px 1px 2px rgba(0, 0, 0, 0.3));\n",
              "      fill: #FFFFFF;\n",
              "    }\n",
              "  </style>\n",
              "\n",
              "      <script>\n",
              "        const buttonEl =\n",
              "          document.querySelector('#df-13d376b2-e7bf-4201-9072-0ca4eebb4a47 button.colab-df-convert');\n",
              "        buttonEl.style.display =\n",
              "          google.colab.kernel.accessAllowed ? 'block' : 'none';\n",
              "\n",
              "        async function convertToInteractive(key) {\n",
              "          const element = document.querySelector('#df-13d376b2-e7bf-4201-9072-0ca4eebb4a47');\n",
              "          const dataTable =\n",
              "            await google.colab.kernel.invokeFunction('convertToInteractive',\n",
              "                                                     [key], {});\n",
              "          if (!dataTable) return;\n",
              "\n",
              "          const docLinkHtml = 'Like what you see? Visit the ' +\n",
              "            '<a target=\"_blank\" href=https://colab.research.google.com/notebooks/data_table.ipynb>data table notebook</a>'\n",
              "            + ' to learn more about interactive tables.';\n",
              "          element.innerHTML = '';\n",
              "          dataTable['output_type'] = 'display_data';\n",
              "          await google.colab.output.renderOutput(dataTable, element);\n",
              "          const docLink = document.createElement('div');\n",
              "          docLink.innerHTML = docLinkHtml;\n",
              "          element.appendChild(docLink);\n",
              "        }\n",
              "      </script>\n",
              "    </div>\n",
              "  </div>\n",
              "  "
            ]
          },
          "metadata": {},
          "execution_count": 5
        }
      ]
    },
    {
      "cell_type": "code",
      "source": [
        "# splitting data into independent and dependent variables\n",
        "X = df.iloc[:, 0:8]\n",
        "y = df[\"Outcome\"] \n",
        "print(\"X shape: \", X.shape)\n",
        "print(\"y shape: \", y.shape)"
      ],
      "metadata": {
        "colab": {
          "base_uri": "https://localhost:8080/"
        },
        "id": "Ytvy4X51cpyj",
        "outputId": "a8d3e60a-4c21-4273-f818-7f6c5b1b3d22"
      },
      "execution_count": null,
      "outputs": [
        {
          "output_type": "stream",
          "name": "stdout",
          "text": [
            "X shape:  (768, 8)\n",
            "y shape:  (768,)\n"
          ]
        }
      ]
    },
    {
      "cell_type": "code",
      "source": [
        "# standardization\n",
        "scaler = StandardScaler()\n",
        "X_scaled = scaler.fit_transform(X)"
      ],
      "metadata": {
        "id": "joSuzlxecrpR"
      },
      "execution_count": null,
      "outputs": []
    },
    {
      "cell_type": "code",
      "source": [
        "# splitting into training and testing data\n",
        "X_train, X_test, y_train, y_test = train_test_split(X_scaled, y, test_size=0.1)\n",
        "print(\"X_train shape: \", X_train.shape)\n",
        "print(\"X_test shape: \", X_test.shape)\n",
        "print(\"y_train shape: \", y_train.shape)\n",
        "print(\"y_test shape: \", y_test.shape)"
      ],
      "metadata": {
        "colab": {
          "base_uri": "https://localhost:8080/"
        },
        "id": "51_wSzSictSQ",
        "outputId": "ea438bb4-8161-4623-92d1-80c699ad4613"
      },
      "execution_count": null,
      "outputs": [
        {
          "output_type": "stream",
          "name": "stdout",
          "text": [
            "X_train shape:  (691, 8)\n",
            "X_test shape:  (77, 8)\n",
            "y_train shape:  (691,)\n",
            "y_test shape:  (77,)\n"
          ]
        }
      ]
    },
    {
      "cell_type": "markdown",
      "source": [
        "# Adam"
      ],
      "metadata": {
        "id": "Qkv3BCfZd3lY"
      }
    },
    {
      "cell_type": "code",
      "source": [
        "# define model\n",
        "model_adam = models.Sequential()\n",
        "model_adam.add(layers.Dense(100, activation=\"relu\"))\n",
        "model_adam.add(layers.Dense(50, activation=\"relu\"))\n",
        "model_adam.add(layers.Dense(25, activation=\"relu\"))\n",
        "model_adam.add(layers.Dense(12, activation=\"relu\"))\n",
        "model_adam.add(layers.Dense(1, activation=\"sigmoid\"))"
      ],
      "metadata": {
        "id": "CLrZgnH2cvVy"
      },
      "execution_count": null,
      "outputs": []
    },
    {
      "cell_type": "code",
      "source": [
        "# adam optimizer \n",
        "model_adam.compile(optimizer=\"adam\", loss=\"binary_crossentropy\", metrics=[\"accuracy\"])"
      ],
      "metadata": {
        "id": "F-lbYSQEczQ5"
      },
      "execution_count": null,
      "outputs": []
    },
    {
      "cell_type": "code",
      "source": [
        "# train adam model\n",
        "history_adam = model_adam.fit(X_train, y_train, epochs=15, validation_data=(X_test, y_test))"
      ],
      "metadata": {
        "colab": {
          "base_uri": "https://localhost:8080/"
        },
        "id": "ZaFdi2RAc8am",
        "outputId": "a59391fb-86aa-49d6-d70e-3e7ebdc345d2"
      },
      "execution_count": null,
      "outputs": [
        {
          "output_type": "stream",
          "name": "stdout",
          "text": [
            "Epoch 1/15\n",
            "22/22 [==============================] - 2s 13ms/step - loss: 0.6419 - accuracy: 0.7019 - val_loss: 0.6128 - val_accuracy: 0.7013\n",
            "Epoch 2/15\n",
            "22/22 [==============================] - 0s 3ms/step - loss: 0.5220 - accuracy: 0.7829 - val_loss: 0.5580 - val_accuracy: 0.7013\n",
            "Epoch 3/15\n",
            "22/22 [==============================] - 0s 4ms/step - loss: 0.4581 - accuracy: 0.7858 - val_loss: 0.5587 - val_accuracy: 0.7013\n",
            "Epoch 4/15\n",
            "22/22 [==============================] - 0s 5ms/step - loss: 0.4371 - accuracy: 0.7974 - val_loss: 0.5542 - val_accuracy: 0.7143\n",
            "Epoch 5/15\n",
            "22/22 [==============================] - 0s 5ms/step - loss: 0.4377 - accuracy: 0.7858 - val_loss: 0.5238 - val_accuracy: 0.7273\n",
            "Epoch 6/15\n",
            "22/22 [==============================] - 0s 4ms/step - loss: 0.4228 - accuracy: 0.8032 - val_loss: 0.5330 - val_accuracy: 0.7273\n",
            "Epoch 7/15\n",
            "22/22 [==============================] - 0s 5ms/step - loss: 0.4157 - accuracy: 0.8032 - val_loss: 0.5194 - val_accuracy: 0.7403\n",
            "Epoch 8/15\n",
            "22/22 [==============================] - 0s 4ms/step - loss: 0.4117 - accuracy: 0.8046 - val_loss: 0.5466 - val_accuracy: 0.7013\n",
            "Epoch 9/15\n",
            "22/22 [==============================] - 0s 4ms/step - loss: 0.4066 - accuracy: 0.8061 - val_loss: 0.5202 - val_accuracy: 0.7532\n",
            "Epoch 10/15\n",
            "22/22 [==============================] - 0s 4ms/step - loss: 0.3998 - accuracy: 0.8104 - val_loss: 0.5327 - val_accuracy: 0.7273\n",
            "Epoch 11/15\n",
            "22/22 [==============================] - 0s 4ms/step - loss: 0.3936 - accuracy: 0.8191 - val_loss: 0.5538 - val_accuracy: 0.7273\n",
            "Epoch 12/15\n",
            "22/22 [==============================] - 0s 5ms/step - loss: 0.3925 - accuracy: 0.8133 - val_loss: 0.5272 - val_accuracy: 0.7532\n",
            "Epoch 13/15\n",
            "22/22 [==============================] - 0s 4ms/step - loss: 0.3871 - accuracy: 0.8162 - val_loss: 0.5399 - val_accuracy: 0.7143\n",
            "Epoch 14/15\n",
            "22/22 [==============================] - 0s 4ms/step - loss: 0.3787 - accuracy: 0.8162 - val_loss: 0.5187 - val_accuracy: 0.7403\n",
            "Epoch 15/15\n",
            "22/22 [==============================] - 0s 4ms/step - loss: 0.3734 - accuracy: 0.8220 - val_loss: 0.5316 - val_accuracy: 0.7403\n"
          ]
        }
      ]
    },
    {
      "cell_type": "code",
      "source": [
        "# plot accuracy\n",
        "plt.plot(history_adam.history['accuracy'], label='accuracy')\n",
        "plt.plot(history_adam.history['val_accuracy'], label='val_accuracy')\n",
        "plt.title(\"Adam optimizer Accuracy\")\n",
        "plt.legend(loc='upper right')\n",
        "plt.xlabel(\"Epochs\")\n",
        "plt.ylabel(\"Accuracy\")"
      ],
      "metadata": {
        "colab": {
          "base_uri": "https://localhost:8080/",
          "height": 312
        },
        "id": "mXMKkIS1e6ua",
        "outputId": "a5f51239-70c5-4baf-c36f-4e084f03a813"
      },
      "execution_count": null,
      "outputs": [
        {
          "output_type": "execute_result",
          "data": {
            "text/plain": [
              "Text(0, 0.5, 'Accuracy')"
            ]
          },
          "metadata": {},
          "execution_count": 17
        },
        {
          "output_type": "display_data",
          "data": {
            "text/plain": [
              "<Figure size 432x288 with 1 Axes>"
            ],
            "image/png": "[encoded data removed]"
          },
          "metadata": {
            "needs_background": "light"
          }
        }
      ]
    },
    {
      "cell_type": "markdown",
      "source": [
        "# Adagrad"
      ],
      "metadata": {
        "id": "nEnQqmh5d6h1"
      }
    },
    {
      "cell_type": "code",
      "source": [
        "# define model\n",
        "model_adagrad = models.Sequential()\n",
        "model_adagrad.add(layers.Dense(100, activation=\"relu\"))\n",
        "model_adagrad.add(layers.Dense(50, activation=\"relu\"))\n",
        "model_adagrad.add(layers.Dense(25, activation=\"relu\"))\n",
        "model_adagrad.add(layers.Dense(12, activation=\"relu\"))\n",
        "model_adagrad.add(layers.Dense(1, activation=\"sigmoid\"))"
      ],
      "metadata": {
        "id": "xLCtepWRgGzc"
      },
      "execution_count": null,
      "outputs": []
    },
    {
      "cell_type": "code",
      "source": [
        "# adam optimizer \n",
        "model_adagrad.compile(optimizer=\"Adagrad\", loss=\"binary_crossentropy\", metrics=[\"accuracy\"])"
      ],
      "metadata": {
        "id": "EMdGhCkzeN_u"
      },
      "execution_count": null,
      "outputs": []
    },
    {
      "cell_type": "code",
      "source": [
        "# train adagrad model\n",
        "history_adagrad = model_adagrad.fit(X_train, y_train, epochs=15, validation_data=(X_test, y_test))"
      ],
      "metadata": {
        "colab": {
          "base_uri": "https://localhost:8080/"
        },
        "id": "udwlRYINdCFW",
        "outputId": "ab2ca55c-2748-48b1-9148-e71d25a9ef56"
      },
      "execution_count": null,
      "outputs": [
        {
          "output_type": "stream",
          "name": "stdout",
          "text": [
            "Epoch 1/15\n",
            "22/22 [==============================] - 1s 10ms/step - loss: 0.6989 - accuracy: 0.4732 - val_loss: 0.6957 - val_accuracy: 0.4545\n",
            "Epoch 2/15\n",
            "22/22 [==============================] - 0s 5ms/step - loss: 0.6955 - accuracy: 0.5195 - val_loss: 0.6932 - val_accuracy: 0.5325\n",
            "Epoch 3/15\n",
            "22/22 [==============================] - 0s 3ms/step - loss: 0.6929 - accuracy: 0.5470 - val_loss: 0.6911 - val_accuracy: 0.5714\n",
            "Epoch 4/15\n",
            "22/22 [==============================] - 0s 3ms/step - loss: 0.6908 - accuracy: 0.5876 - val_loss: 0.6894 - val_accuracy: 0.6234\n",
            "Epoch 5/15\n",
            "22/22 [==============================] - 0s 4ms/step - loss: 0.6891 - accuracy: 0.6064 - val_loss: 0.6880 - val_accuracy: 0.6494\n",
            "Epoch 6/15\n",
            "22/22 [==============================] - 0s 3ms/step - loss: 0.6875 - accuracy: 0.6179 - val_loss: 0.6867 - val_accuracy: 0.6494\n",
            "Epoch 7/15\n",
            "22/22 [==============================] - 0s 4ms/step - loss: 0.6861 - accuracy: 0.6310 - val_loss: 0.6856 - val_accuracy: 0.6753\n",
            "Epoch 8/15\n",
            "22/22 [==============================] - 0s 3ms/step - loss: 0.6848 - accuracy: 0.6425 - val_loss: 0.6845 - val_accuracy: 0.6883\n",
            "Epoch 9/15\n",
            "22/22 [==============================] - 0s 4ms/step - loss: 0.6836 - accuracy: 0.6483 - val_loss: 0.6835 - val_accuracy: 0.6753\n",
            "Epoch 10/15\n",
            "22/22 [==============================] - 0s 4ms/step - loss: 0.6824 - accuracy: 0.6599 - val_loss: 0.6827 - val_accuracy: 0.6753\n",
            "Epoch 11/15\n",
            "22/22 [==============================] - 0s 3ms/step - loss: 0.6813 - accuracy: 0.6700 - val_loss: 0.6818 - val_accuracy: 0.6623\n",
            "Epoch 12/15\n",
            "22/22 [==============================] - 0s 4ms/step - loss: 0.6802 - accuracy: 0.6657 - val_loss: 0.6810 - val_accuracy: 0.6623\n",
            "Epoch 13/15\n",
            "22/22 [==============================] - 0s 3ms/step - loss: 0.6791 - accuracy: 0.6671 - val_loss: 0.6803 - val_accuracy: 0.6494\n",
            "Epoch 14/15\n",
            "22/22 [==============================] - 0s 4ms/step - loss: 0.6780 - accuracy: 0.6686 - val_loss: 0.6795 - val_accuracy: 0.6494\n",
            "Epoch 15/15\n",
            "22/22 [==============================] - 0s 3ms/step - loss: 0.6769 - accuracy: 0.6643 - val_loss: 0.6788 - val_accuracy: 0.6494\n"
          ]
        }
      ]
    },
    {
      "cell_type": "code",
      "source": [
        "# plot accuracy\n",
        "plt.plot(history_adagrad.history['accuracy'], label='accuracy')\n",
        "plt.plot(history_adagrad.history['val_accuracy'], label='val_accuracy')\n",
        "plt.title(\"Adagrad optimizer Accuracy\")\n",
        "plt.legend(loc='upper right')\n",
        "plt.xlabel(\"Epochs\")\n",
        "plt.ylabel(\"Accuracy\")"
      ],
      "metadata": {
        "colab": {
          "base_uri": "https://localhost:8080/",
          "height": 312
        },
        "id": "INSlrFDIe-A9",
        "outputId": "3d0f50cf-7ee8-4e2d-df1a-af01c296b216"
      },
      "execution_count": null,
      "outputs": [
        {
          "output_type": "execute_result",
          "data": {
            "text/plain": [
              "Text(0, 0.5, 'Accuracy')"
            ]
          },
          "metadata": {},
          "execution_count": 21
        },
        {
          "output_type": "display_data",
          "data": {
            "text/plain": [
              "<Figure size 432x288 with 1 Axes>"
            ],
            "image/png": "[encoded data removed]"
          },
          "metadata": {
            "needs_background": "light"
          }
        }
      ]
    },
    {
      "cell_type": "markdown",
      "source": [
        "# RMSprop"
      ],
      "metadata": {
        "id": "dseHit_OeCZF"
      }
    },
    {
      "cell_type": "code",
      "source": [
        "# define model\n",
        "model_rmsprop = models.Sequential()\n",
        "model_rmsprop.add(layers.Dense(100, activation=\"relu\"))\n",
        "model_rmsprop.add(layers.Dense(50, activation=\"relu\"))\n",
        "model_rmsprop.add(layers.Dense(25, activation=\"relu\"))\n",
        "model_rmsprop.add(layers.Dense(12, activation=\"relu\"))\n",
        "model_rmsprop.add(layers.Dense(1, activation=\"sigmoid\"))"
      ],
      "metadata": {
        "id": "7R0xotn-gU16"
      },
      "execution_count": null,
      "outputs": []
    },
    {
      "cell_type": "code",
      "source": [
        "# adam optimizer \n",
        "model_rmsprop.compile(optimizer=\"RMSprop\", loss=\"binary_crossentropy\", metrics=[\"accuracy\"])"
      ],
      "metadata": {
        "id": "n4Xm8Ny8duXE"
      },
      "execution_count": null,
      "outputs": []
    },
    {
      "cell_type": "code",
      "source": [
        "# train rmsprop model\n",
        "history_rmsprop = model_rmsprop.fit(X_train, y_train, epochs=15, validation_data=(X_test, y_test))"
      ],
      "metadata": {
        "colab": {
          "base_uri": "https://localhost:8080/"
        },
        "id": "sjlgeJB1dC2t",
        "outputId": "58c518ef-7e5e-4bcf-c79b-2ac552cd8f93"
      },
      "execution_count": null,
      "outputs": [
        {
          "output_type": "stream",
          "name": "stdout",
          "text": [
            "Epoch 1/15\n",
            "22/22 [==============================] - 1s 10ms/step - loss: 0.6140 - accuracy: 0.7308 - val_loss: 0.5862 - val_accuracy: 0.7013\n",
            "Epoch 2/15\n",
            "22/22 [==============================] - 0s 4ms/step - loss: 0.5027 - accuracy: 0.7771 - val_loss: 0.5528 - val_accuracy: 0.7143\n",
            "Epoch 3/15\n",
            "22/22 [==============================] - 0s 4ms/step - loss: 0.4616 - accuracy: 0.7916 - val_loss: 0.5412 - val_accuracy: 0.7143\n",
            "Epoch 4/15\n",
            "22/22 [==============================] - 0s 4ms/step - loss: 0.4473 - accuracy: 0.7945 - val_loss: 0.5207 - val_accuracy: 0.7403\n",
            "Epoch 5/15\n",
            "22/22 [==============================] - 0s 4ms/step - loss: 0.4401 - accuracy: 0.7931 - val_loss: 0.5311 - val_accuracy: 0.7143\n",
            "Epoch 6/15\n",
            "22/22 [==============================] - 0s 4ms/step - loss: 0.4369 - accuracy: 0.7988 - val_loss: 0.5289 - val_accuracy: 0.7143\n",
            "Epoch 7/15\n",
            "22/22 [==============================] - 0s 4ms/step - loss: 0.4278 - accuracy: 0.7988 - val_loss: 0.5219 - val_accuracy: 0.7273\n",
            "Epoch 8/15\n",
            "22/22 [==============================] - 0s 4ms/step - loss: 0.4226 - accuracy: 0.8017 - val_loss: 0.5365 - val_accuracy: 0.7273\n",
            "Epoch 9/15\n",
            "22/22 [==============================] - 0s 4ms/step - loss: 0.4167 - accuracy: 0.7974 - val_loss: 0.5508 - val_accuracy: 0.7273\n",
            "Epoch 10/15\n",
            "22/22 [==============================] - 0s 3ms/step - loss: 0.4178 - accuracy: 0.7959 - val_loss: 0.5312 - val_accuracy: 0.7403\n",
            "Epoch 11/15\n",
            "22/22 [==============================] - 0s 4ms/step - loss: 0.4104 - accuracy: 0.8075 - val_loss: 0.5118 - val_accuracy: 0.7273\n",
            "Epoch 12/15\n",
            "22/22 [==============================] - 0s 4ms/step - loss: 0.4032 - accuracy: 0.8119 - val_loss: 0.5162 - val_accuracy: 0.7143\n",
            "Epoch 13/15\n",
            "22/22 [==============================] - 0s 5ms/step - loss: 0.4034 - accuracy: 0.8133 - val_loss: 0.5067 - val_accuracy: 0.7662\n",
            "Epoch 14/15\n",
            "22/22 [==============================] - 0s 3ms/step - loss: 0.3939 - accuracy: 0.8148 - val_loss: 0.5173 - val_accuracy: 0.7143\n",
            "Epoch 15/15\n",
            "22/22 [==============================] - 0s 3ms/step - loss: 0.3885 - accuracy: 0.8249 - val_loss: 0.5129 - val_accuracy: 0.7273\n"
          ]
        }
      ]
    },
    {
      "cell_type": "code",
      "source": [
        "# plot accuracy\n",
        "plt.plot(history_rmsprop.history['accuracy'], label='accuracy')\n",
        "plt.plot(history_rmsprop.history['val_accuracy'], label='val_accuracy')\n",
        "plt.title(\"RMSprop optimizer Accuracy\")\n",
        "plt.legend(loc='upper right')\n",
        "plt.xlabel(\"Epochs\")\n",
        "plt.ylabel(\"Accuracy\")"
      ],
      "metadata": {
        "colab": {
          "base_uri": "https://localhost:8080/",
          "height": 312
        },
        "id": "BCSObZyZfHnA",
        "outputId": "8d7a6b67-f14e-4cc9-c8ec-50a37eabca31"
      },
      "execution_count": null,
      "outputs": [
        {
          "output_type": "execute_result",
          "data": {
            "text/plain": [
              "Text(0, 0.5, 'Accuracy')"
            ]
          },
          "metadata": {},
          "execution_count": 25
        },
        {
          "output_type": "display_data",
          "data": {
            "text/plain": [
              "<Figure size 432x288 with 1 Axes>"
            ],
            "image/png": "[encoded data removed]"
          },
          "metadata": {
            "needs_background": "light"
          }
        }
      ]
    },
    {
      "cell_type": "markdown",
      "source": [
        "# Sgd"
      ],
      "metadata": {
        "id": "Q9OOGra_eG8M"
      }
    },
    {
      "cell_type": "code",
      "source": [
        "# define model\n",
        "model_sgd = models.Sequential()\n",
        "model_sgd.add(layers.Dense(100, activation=\"relu\"))\n",
        "model_sgd.add(layers.Dense(50, activation=\"relu\"))\n",
        "model_sgd.add(layers.Dense(25, activation=\"relu\"))\n",
        "model_sgd.add(layers.Dense(12, activation=\"relu\"))\n",
        "model_sgd.add(layers.Dense(1, activation=\"sigmoid\"))"
      ],
      "metadata": {
        "id": "ezdIq3tZgcKs"
      },
      "execution_count": null,
      "outputs": []
    },
    {
      "cell_type": "code",
      "source": [
        "# adam optimizer \n",
        "model_sgd.compile(optimizer=\"sgd\", loss=\"binary_crossentropy\", metrics=[\"accuracy\"])"
      ],
      "metadata": {
        "id": "amViL8a9eRDC"
      },
      "execution_count": null,
      "outputs": []
    },
    {
      "cell_type": "code",
      "source": [
        "# train sgd model\n",
        "history_sgd = model_sgd.fit(X_train, y_train, epochs=15, validation_data=(X_test, y_test))"
      ],
      "metadata": {
        "colab": {
          "base_uri": "https://localhost:8080/"
        },
        "id": "4ezfP5oGdDij",
        "outputId": "6e6e8930-9a3f-477c-c740-f57a46514151"
      },
      "execution_count": null,
      "outputs": [
        {
          "output_type": "stream",
          "name": "stdout",
          "text": [
            "Epoch 1/15\n",
            "22/22 [==============================] - 1s 10ms/step - loss: 0.6962 - accuracy: 0.5051 - val_loss: 0.6926 - val_accuracy: 0.5844\n",
            "Epoch 2/15\n",
            "22/22 [==============================] - 0s 3ms/step - loss: 0.6794 - accuracy: 0.6498 - val_loss: 0.6818 - val_accuracy: 0.6104\n",
            "Epoch 3/15\n",
            "22/22 [==============================] - 0s 4ms/step - loss: 0.6649 - accuracy: 0.6657 - val_loss: 0.6727 - val_accuracy: 0.6104\n",
            "Epoch 4/15\n",
            "22/22 [==============================] - 0s 4ms/step - loss: 0.6521 - accuracy: 0.6628 - val_loss: 0.6658 - val_accuracy: 0.5974\n",
            "Epoch 5/15\n",
            "22/22 [==============================] - 0s 4ms/step - loss: 0.6415 - accuracy: 0.6614 - val_loss: 0.6604 - val_accuracy: 0.5974\n",
            "Epoch 6/15\n",
            "22/22 [==============================] - 0s 3ms/step - loss: 0.6325 - accuracy: 0.6614 - val_loss: 0.6555 - val_accuracy: 0.5974\n",
            "Epoch 7/15\n",
            "22/22 [==============================] - 0s 4ms/step - loss: 0.6242 - accuracy: 0.6628 - val_loss: 0.6509 - val_accuracy: 0.5974\n",
            "Epoch 8/15\n",
            "22/22 [==============================] - 0s 4ms/step - loss: 0.6161 - accuracy: 0.6628 - val_loss: 0.6462 - val_accuracy: 0.5974\n",
            "Epoch 9/15\n",
            "22/22 [==============================] - 0s 3ms/step - loss: 0.6084 - accuracy: 0.6628 - val_loss: 0.6415 - val_accuracy: 0.5974\n",
            "Epoch 10/15\n",
            "22/22 [==============================] - 0s 3ms/step - loss: 0.6001 - accuracy: 0.6700 - val_loss: 0.6368 - val_accuracy: 0.5974\n",
            "Epoch 11/15\n",
            "22/22 [==============================] - 0s 3ms/step - loss: 0.5915 - accuracy: 0.6787 - val_loss: 0.6321 - val_accuracy: 0.6104\n",
            "Epoch 12/15\n",
            "22/22 [==============================] - 0s 3ms/step - loss: 0.5827 - accuracy: 0.6961 - val_loss: 0.6273 - val_accuracy: 0.6364\n",
            "Epoch 13/15\n",
            "22/22 [==============================] - 0s 3ms/step - loss: 0.5739 - accuracy: 0.7019 - val_loss: 0.6221 - val_accuracy: 0.6364\n",
            "Epoch 14/15\n",
            "22/22 [==============================] - 0s 4ms/step - loss: 0.5650 - accuracy: 0.7149 - val_loss: 0.6170 - val_accuracy: 0.6494\n",
            "Epoch 15/15\n",
            "22/22 [==============================] - 0s 4ms/step - loss: 0.5566 - accuracy: 0.7265 - val_loss: 0.6118 - val_accuracy: 0.6364\n"
          ]
        }
      ]
    },
    {
      "cell_type": "code",
      "source": [
        "# plot accuracy\n",
        "plt.plot(history_sgd.history['accuracy'], label='accuracy')\n",
        "plt.plot(history_sgd.history['val_accuracy'], label='val_accuracy')\n",
        "plt.title(\"Sgd optimizer Accuracy\")\n",
        "plt.legend(loc='upper right')\n",
        "plt.xlabel(\"Epochs\")\n",
        "plt.ylabel(\"Accuracy\")"
      ],
      "metadata": {
        "colab": {
          "base_uri": "https://localhost:8080/",
          "height": 312
        },
        "id": "lnjXSBTzfRqK",
        "outputId": "1f82ed46-1fc5-45f6-c699-7543839d316c"
      },
      "execution_count": null,
      "outputs": [
        {
          "output_type": "execute_result",
          "data": {
            "text/plain": [
              "Text(0, 0.5, 'Accuracy')"
            ]
          },
          "metadata": {},
          "execution_count": 29
        },
        {
          "output_type": "display_data",
          "data": {
            "text/plain": [
              "<Figure size 432x288 with 1 Axes>"
            ],
            "image/png": "[encoded data removed]"
          },
          "metadata": {
            "needs_background": "light"
          }
        }
      ]
    }
  ]
}